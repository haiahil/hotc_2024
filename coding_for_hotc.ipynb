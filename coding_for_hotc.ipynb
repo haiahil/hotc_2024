{
 "cells": [
  {
   "cell_type": "markdown",
   "id": "66842799",
   "metadata": {},
   "source": [
    "# Variables"
   ]
  },
  {
   "cell_type": "markdown",
   "id": "c9148d59",
   "metadata": {},
   "source": [
    "A variable is like a named container that holds information and a way to store data in your program.\n",
    "\n",
    "Think of it as giving a name to a memory location where you can put stuff. These “stuff” can be numbers, text, lists, or even more complex objects.\n"
   ]
  },
  {
   "cell_type": "code",
   "execution_count": 2,
   "id": "68d9ec37",
   "metadata": {},
   "outputs": [],
   "source": [
    "i = 10"
   ]
  },
  {
   "cell_type": "code",
   "execution_count": 3,
   "id": "e49ebd94",
   "metadata": {},
   "outputs": [
    {
     "name": "stdout",
     "output_type": "stream",
     "text": [
      "10\n"
     ]
    }
   ],
   "source": [
    "print (i)"
   ]
  },
  {
   "cell_type": "code",
   "execution_count": 4,
   "id": "bfcd3c66",
   "metadata": {},
   "outputs": [],
   "source": [
    "name = 'spider man'"
   ]
  },
  {
   "cell_type": "code",
   "execution_count": 5,
   "id": "66e50f42",
   "metadata": {},
   "outputs": [
    {
     "name": "stdout",
     "output_type": "stream",
     "text": [
      "spider man\n"
     ]
    }
   ],
   "source": [
    "print (name)"
   ]
  },
  {
   "cell_type": "markdown",
   "id": "cd45f24e",
   "metadata": {},
   "source": [
    "# Data Types"
   ]
  },
  {
   "cell_type": "markdown",
   "id": "37443504",
   "metadata": {},
   "source": [
    "Let us check the type of the variable i defined earlier"
   ]
  },
  {
   "cell_type": "code",
   "execution_count": 6,
   "id": "a8c39cf2",
   "metadata": {},
   "outputs": [
    {
     "data": {
      "text/plain": [
       "int"
      ]
     },
     "execution_count": 6,
     "metadata": {},
     "output_type": "execute_result"
    }
   ],
   "source": [
    "type (i)"
   ]
  },
  {
   "cell_type": "code",
   "execution_count": 7,
   "id": "78d7ecc8",
   "metadata": {},
   "outputs": [
    {
     "data": {
      "text/plain": [
       "str"
      ]
     },
     "execution_count": 7,
     "metadata": {},
     "output_type": "execute_result"
    }
   ],
   "source": [
    "type(name)"
   ]
  },
  {
   "cell_type": "markdown",
   "id": "141969a2",
   "metadata": {},
   "source": [
    "Few commonly used data types :"
   ]
  },
  {
   "attachments": {},
   "cell_type": "markdown",
   "id": "1d3866d0",
   "metadata": {},
   "source": [
    "<b>Integer </b> is useful to store numeric values, both positive and negative.\n",
    "<p style=\"font-family:'Courier New'\"> age = 25 </p>\n",
    "<BR>\n",
    "    <b>Float </b> can store numbers with decimal values\n",
    "    <p style=\"font-family:'Courier New'\"> pi = 3.14 </p>\n",
    "<BR>\n",
    "    <b>String </b> helps to store text\n",
    "    <p style=\"font-family:'Courier New'\">greeting = \"hello\")</p>\n",
    "<BR>\n",
    "<b>Boolean </b> is for storing Yes or No type of values\n",
    "    <p style=\"font-family:'Courier New'\">is_hot = True </p>\n",
    "<BR>\n",
    "<b>List </b> is a collection of data. Data element can be integer, float, boolean or string\n",
    "<BR>\n",
    "<p style=\"font-family:'Courier New'\">fruits = [\"apple\", \"banana\", \"cherry\"]</p>\n",
    "<BR>\n",
    "<b>Range </b> provides values in the range, say 1 to 6.\n",
    "<BR>\n",
    "    <p style=\"font-family:'Courier New'\">numbers = range(1, 6)</p>\n",
    "<BR>\n"
   ]
  },
  {
   "cell_type": "code",
   "execution_count": 8,
   "id": "e26f92e1",
   "metadata": {},
   "outputs": [],
   "source": [
    "age = 25"
   ]
  },
  {
   "cell_type": "markdown",
   "id": "30f40740",
   "metadata": {},
   "source": [
    "Now variable 'age' is assigned with value 25.\n",
    "How to see it?\n",
    "We can using print() function."
   ]
  },
  {
   "cell_type": "code",
   "execution_count": 9,
   "id": "a27dccb3",
   "metadata": {},
   "outputs": [
    {
     "name": "stdout",
     "output_type": "stream",
     "text": [
      "25\n"
     ]
    }
   ],
   "source": [
    "print (age)"
   ]
  },
  {
   "cell_type": "code",
   "execution_count": 10,
   "id": "e259b15a",
   "metadata": {},
   "outputs": [
    {
     "data": {
      "text/plain": [
       "int"
      ]
     },
     "execution_count": 10,
     "metadata": {},
     "output_type": "execute_result"
    }
   ],
   "source": [
    "type(age)"
   ]
  },
  {
   "cell_type": "code",
   "execution_count": 11,
   "id": "658749c5",
   "metadata": {},
   "outputs": [
    {
     "name": "stdout",
     "output_type": "stream",
     "text": [
      "3.14\n"
     ]
    }
   ],
   "source": [
    "pi = 3.14\n",
    "print (pi)"
   ]
  },
  {
   "cell_type": "code",
   "execution_count": 12,
   "id": "68a91dfe",
   "metadata": {},
   "outputs": [
    {
     "name": "stdout",
     "output_type": "stream",
     "text": [
      "hello\n"
     ]
    },
    {
     "data": {
      "text/plain": [
       "str"
      ]
     },
     "execution_count": 12,
     "metadata": {},
     "output_type": "execute_result"
    }
   ],
   "source": [
    "greeting = 'hello'\n",
    "print (greeting)\n",
    "type (greeting)"
   ]
  },
  {
   "cell_type": "markdown",
   "id": "6f5027ac",
   "metadata": {},
   "source": [
    "Boolean is used to stored Yes or No results"
   ]
  },
  {
   "cell_type": "code",
   "execution_count": 13,
   "id": "51b5dad9",
   "metadata": {},
   "outputs": [
    {
     "name": "stdout",
     "output_type": "stream",
     "text": [
      "True\n"
     ]
    }
   ],
   "source": [
    "is_hot = True\n",
    "print (is_hot)"
   ]
  },
  {
   "cell_type": "code",
   "execution_count": 14,
   "id": "bda42565",
   "metadata": {},
   "outputs": [
    {
     "data": {
      "text/plain": [
       "bool"
      ]
     },
     "execution_count": 14,
     "metadata": {},
     "output_type": "execute_result"
    }
   ],
   "source": [
    "type(is_hot)\n"
   ]
  },
  {
   "attachments": {},
   "cell_type": "markdown",
   "id": "9e671433",
   "metadata": {},
   "source": [
    "# Built In Functions"
   ]
  },
  {
   "attachments": {},
   "cell_type": "markdown",
   "id": "f697e397",
   "metadata": {},
   "source": [
    "Functions are like trusty tools in your programming toolbox. \n",
    "\n",
    "They’re always available and ready to help you get things done."
   ]
  },
  {
   "attachments": {},
   "cell_type": "markdown",
   "id": "217042a2",
   "metadata": {},
   "source": [
    "<b>input() </b> to get input from user <p style=\"font-family:'Courier New'\">input(\"Enter your name: \") </p>\n",
    "<BR>\n",
    "<b>print() </b>to print a message \n",
    "    <p style=\"font-family:'Courier New'\"> print(\"Welcome!\") </p>\n",
    "<BR>\n",
    "<b>int() </b> returns an integer from a given object \n",
    "    <p style=\"font-family:'Courier New'\">int(input(\"Enter your guess: \")) </p>\n",
    "<BR>\n",
    "<b>random() </b>returns a random number \n",
    "    <p style=\"font-family:'Courier New'\">random.randint(1, 100)</p>\n",
    "<BR>"
   ]
  },
  {
   "cell_type": "markdown",
   "id": "6537cf90",
   "metadata": {},
   "source": [
    "# Game Time!"
   ]
  },
  {
   "cell_type": "markdown",
   "id": "5a882757",
   "metadata": {},
   "source": [
    "A simple number guessing game. Computer generates a random number and keep it as a secret. User need to guess it correctly to win the game."
   ]
  },
  {
   "cell_type": "code",
   "execution_count": 15,
   "id": "b1f5644d",
   "metadata": {},
   "outputs": [
    {
     "name": "stdout",
     "output_type": "stream",
     "text": [
      "1\n",
      "enter your guess30\n",
      "your guess is greater than me!\n",
      "enter your guess2\n",
      "your guess is greater than me!\n",
      "enter your guess1\n",
      "You won!\n"
     ]
    }
   ],
   "source": [
    "import random\n",
    "guess_me = random.randrange(1,100)\n",
    "print (guess_me)\n",
    "user_guess = 0\n",
    "while (guess_me != user_guess):\n",
    "    user_guess = int(input('enter your guess')) \n",
    "    if user_guess == guess_me:\n",
    "        print (\"You won!\")\n",
    "        break\n",
    "    if user_guess > guess_me:\n",
    "        print ('your guess is greater than me!')\n",
    "    else:\n",
    "        print ('your guess is smaller than me!')"
   ]
  },
  {
   "cell_type": "markdown",
   "id": "d7775ff7",
   "metadata": {},
   "source": [
    "<b>An improved elegant version.. <BR>\n",
    "<p style=\"font-size:20px\">    How i did this, we will see tomorrow!</p>"
   ]
  },
  {
   "cell_type": "code",
   "execution_count": null,
   "id": "35b744e8",
   "metadata": {},
   "outputs": [
    {
     "name": "stdout",
     "output_type": "stream",
     "text": [
      "60\n",
      "Welcome to the Number Guessing Game!\n",
      "I'm thinking of a number between 1 and 100.\n",
      "Enter your guess: -100\n",
      "Too low! Try again.\n",
      "Enter your guess: pass\n",
      "Please enter a valid number.\n",
      "Enter your guess: pass\n",
      "Please enter a valid number.\n",
      "Enter your guess: 10\n",
      "Too low! Try again.\n"
     ]
    }
   ],
   "source": [
    "import random\n",
    "\n",
    "# Generate a random number between 1 and 100\n",
    "secret_number = random.randint(1, 100)\n",
    "\n",
    "print (secret_number)\n",
    "\n",
    "print(\"Welcome to the Number Guessing Game!\")\n",
    "print(\"I'm thinking of a number between 1 and 100.\")\n",
    "\n",
    "attempts = 0\n",
    "max_attempts = 10\n",
    "\n",
    "while attempts < max_attempts:\n",
    "    try:\n",
    "        # Get user input\n",
    "        guess = int(input(\"Enter your guess: \"))\n",
    "        attempts += 1\n",
    "\n",
    "        # Check the guess\n",
    "        if guess < secret_number:\n",
    "            print(\"Too low! Try again.\")\n",
    "        elif guess > secret_number:\n",
    "            print(\"Too high! Try again.\")\n",
    "        else:\n",
    "            print(f\"Congratulations! You guessed the number in {attempts} attempts!\")\n",
    "            break\n",
    "\n",
    "    except ValueError:\n",
    "        print(\"Please enter a valid number.\")\n",
    "\n",
    "if attempts == max_attempts:\n",
    "    print(f\"Sorry, you've run out of attempts. The number was {secret_number}.\")\n",
    "\n",
    "print(\"Thanks for playing!\")"
   ]
  },
  {
   "cell_type": "code",
   "execution_count": null,
   "id": "b4f8a13a",
   "metadata": {},
   "outputs": [],
   "source": []
  }
 ],
 "metadata": {
  "kernelspec": {
   "display_name": "Python 3 (ipykernel)",
   "language": "python",
   "name": "python3"
  },
  "language_info": {
   "codemirror_mode": {
    "name": "ipython",
    "version": 3
   },
   "file_extension": ".py",
   "mimetype": "text/x-python",
   "name": "python",
   "nbconvert_exporter": "python",
   "pygments_lexer": "ipython3",
   "version": "3.11.3"
  }
 },
 "nbformat": 4,
 "nbformat_minor": 5
}
